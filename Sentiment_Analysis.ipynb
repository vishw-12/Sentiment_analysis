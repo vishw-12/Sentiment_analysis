{
  "nbformat": 4,
  "nbformat_minor": 0,
  "metadata": {
    "colab": {
      "provenance": []
    },
    "kernelspec": {
      "name": "python3",
      "display_name": "Python 3"
    },
    "language_info": {
      "name": "python"
    }
  },
  "cells": [
    {
      "cell_type": "code",
      "execution_count": 21,
      "metadata": {
        "colab": {
          "base_uri": "https://localhost:8080/"
        },
        "id": "2og3cOIkvpCh",
        "outputId": "4fd64a66-6af4-43a0-cc66-81abfbed4e54"
      },
      "outputs": [
        {
          "output_type": "stream",
          "name": "stdout",
          "text": [
            "Looking in indexes: https://download.pytorch.org/whl/cu118\n",
            "Requirement already satisfied: torch in /usr/local/lib/python3.10/dist-packages (2.0.1+cu118)\n",
            "Requirement already satisfied: torchvision in /usr/local/lib/python3.10/dist-packages (0.15.2+cu118)\n",
            "Requirement already satisfied: torchaudio in /usr/local/lib/python3.10/dist-packages (2.0.2+cu118)\n",
            "Requirement already satisfied: filelock in /usr/local/lib/python3.10/dist-packages (from torch) (3.12.2)\n",
            "Requirement already satisfied: typing-extensions in /usr/local/lib/python3.10/dist-packages (from torch) (4.5.0)\n",
            "Requirement already satisfied: sympy in /usr/local/lib/python3.10/dist-packages (from torch) (1.12)\n",
            "Requirement already satisfied: networkx in /usr/local/lib/python3.10/dist-packages (from torch) (3.1)\n",
            "Requirement already satisfied: jinja2 in /usr/local/lib/python3.10/dist-packages (from torch) (3.1.2)\n",
            "Requirement already satisfied: triton==2.0.0 in /usr/local/lib/python3.10/dist-packages (from torch) (2.0.0)\n",
            "Requirement already satisfied: cmake in /usr/local/lib/python3.10/dist-packages (from triton==2.0.0->torch) (3.27.4.1)\n",
            "Requirement already satisfied: lit in /usr/local/lib/python3.10/dist-packages (from triton==2.0.0->torch) (16.0.6)\n",
            "Requirement already satisfied: numpy in /usr/local/lib/python3.10/dist-packages (from torchvision) (1.23.5)\n",
            "Requirement already satisfied: requests in /usr/local/lib/python3.10/dist-packages (from torchvision) (2.31.0)\n",
            "Requirement already satisfied: pillow!=8.3.*,>=5.3.0 in /usr/local/lib/python3.10/dist-packages (from torchvision) (9.4.0)\n",
            "Requirement already satisfied: MarkupSafe>=2.0 in /usr/local/lib/python3.10/dist-packages (from jinja2->torch) (2.1.3)\n",
            "Requirement already satisfied: charset-normalizer<4,>=2 in /usr/local/lib/python3.10/dist-packages (from requests->torchvision) (3.2.0)\n",
            "Requirement already satisfied: idna<4,>=2.5 in /usr/local/lib/python3.10/dist-packages (from requests->torchvision) (3.4)\n",
            "Requirement already satisfied: urllib3<3,>=1.21.1 in /usr/local/lib/python3.10/dist-packages (from requests->torchvision) (2.0.4)\n",
            "Requirement already satisfied: certifi>=2017.4.17 in /usr/local/lib/python3.10/dist-packages (from requests->torchvision) (2023.7.22)\n",
            "Requirement already satisfied: mpmath>=0.19 in /usr/local/lib/python3.10/dist-packages (from sympy->torch) (1.3.0)\n"
          ]
        }
      ],
      "source": [
        "!pip install torch torchvision torchaudio --index-url https://download.pytorch.org/whl/cu118"
      ]
    },
    {
      "cell_type": "code",
      "source": [
        "!pip install transformers beautifulsoup4 requests pandas numpy"
      ],
      "metadata": {
        "colab": {
          "base_uri": "https://localhost:8080/"
        },
        "id": "mT4EQOZXv0lU",
        "outputId": "d09c0e15-4b5e-4c8d-9f20-fc4907fa132e"
      },
      "execution_count": 22,
      "outputs": [
        {
          "output_type": "stream",
          "name": "stdout",
          "text": [
            "Requirement already satisfied: transformers in /usr/local/lib/python3.10/dist-packages (4.33.1)\n",
            "Requirement already satisfied: beautifulsoup4 in /usr/local/lib/python3.10/dist-packages (4.11.2)\n",
            "Requirement already satisfied: requests in /usr/local/lib/python3.10/dist-packages (2.31.0)\n",
            "Requirement already satisfied: pandas in /usr/local/lib/python3.10/dist-packages (1.5.3)\n",
            "Requirement already satisfied: numpy in /usr/local/lib/python3.10/dist-packages (1.23.5)\n",
            "Requirement already satisfied: filelock in /usr/local/lib/python3.10/dist-packages (from transformers) (3.12.2)\n",
            "Requirement already satisfied: huggingface-hub<1.0,>=0.15.1 in /usr/local/lib/python3.10/dist-packages (from transformers) (0.17.1)\n",
            "Requirement already satisfied: packaging>=20.0 in /usr/local/lib/python3.10/dist-packages (from transformers) (23.1)\n",
            "Requirement already satisfied: pyyaml>=5.1 in /usr/local/lib/python3.10/dist-packages (from transformers) (6.0.1)\n",
            "Requirement already satisfied: regex!=2019.12.17 in /usr/local/lib/python3.10/dist-packages (from transformers) (2023.6.3)\n",
            "Requirement already satisfied: tokenizers!=0.11.3,<0.14,>=0.11.1 in /usr/local/lib/python3.10/dist-packages (from transformers) (0.13.3)\n",
            "Requirement already satisfied: safetensors>=0.3.1 in /usr/local/lib/python3.10/dist-packages (from transformers) (0.3.3)\n",
            "Requirement already satisfied: tqdm>=4.27 in /usr/local/lib/python3.10/dist-packages (from transformers) (4.66.1)\n",
            "Requirement already satisfied: soupsieve>1.2 in /usr/local/lib/python3.10/dist-packages (from beautifulsoup4) (2.5)\n",
            "Requirement already satisfied: charset-normalizer<4,>=2 in /usr/local/lib/python3.10/dist-packages (from requests) (3.2.0)\n",
            "Requirement already satisfied: idna<4,>=2.5 in /usr/local/lib/python3.10/dist-packages (from requests) (3.4)\n",
            "Requirement already satisfied: urllib3<3,>=1.21.1 in /usr/local/lib/python3.10/dist-packages (from requests) (2.0.4)\n",
            "Requirement already satisfied: certifi>=2017.4.17 in /usr/local/lib/python3.10/dist-packages (from requests) (2023.7.22)\n",
            "Requirement already satisfied: python-dateutil>=2.8.1 in /usr/local/lib/python3.10/dist-packages (from pandas) (2.8.2)\n",
            "Requirement already satisfied: pytz>=2020.1 in /usr/local/lib/python3.10/dist-packages (from pandas) (2023.3.post1)\n",
            "Requirement already satisfied: fsspec in /usr/local/lib/python3.10/dist-packages (from huggingface-hub<1.0,>=0.15.1->transformers) (2023.6.0)\n",
            "Requirement already satisfied: typing-extensions>=3.7.4.3 in /usr/local/lib/python3.10/dist-packages (from huggingface-hub<1.0,>=0.15.1->transformers) (4.5.0)\n",
            "Requirement already satisfied: six>=1.5 in /usr/local/lib/python3.10/dist-packages (from python-dateutil>=2.8.1->pandas) (1.16.0)\n"
          ]
        }
      ]
    },
    {
      "cell_type": "code",
      "source": [
        "from transformers import AutoTokenizer, AutoModelForSequenceClassification\n",
        "import torch\n",
        "import requests\n",
        "from bs4 import BeautifulSoup\n",
        "import re"
      ],
      "metadata": {
        "id": "z3-cuMYQwzhS"
      },
      "execution_count": 23,
      "outputs": []
    },
    {
      "cell_type": "code",
      "source": [
        "tokenizer = AutoTokenizer.from_pretrained('nlptown/bert-base-multilingual-uncased-sentiment')\n",
        "model = AutoModelForSequenceClassification.from_pretrained('nlptown/bert-base-multilingual-uncased-sentiment')"
      ],
      "metadata": {
        "id": "M8bMBU6kxnt8"
      },
      "execution_count": 24,
      "outputs": []
    },
    {
      "cell_type": "code",
      "source": [
        "tokens = tokenizer.encode('WOW IT IS NICE, BUT I DON\\'T LIKE IT)',return_tensors='pt')\n",
        "tokens"
      ],
      "metadata": {
        "colab": {
          "base_uri": "https://localhost:8080/"
        },
        "id": "ES3qmuCIyvc8",
        "outputId": "1bffdefb-9707-4a77-e629-957ae9aa8877"
      },
      "execution_count": 32,
      "outputs": [
        {
          "output_type": "execute_result",
          "data": {
            "text/plain": [
              "tensor([[  101, 94608, 10197, 10127, 24242,   117, 10502,   151, 11530,   112,\n",
              "           162, 11531, 10197,   114,   102]])"
            ]
          },
          "metadata": {},
          "execution_count": 32
        }
      ]
    },
    {
      "cell_type": "code",
      "source": [
        "result = model(tokens)"
      ],
      "metadata": {
        "id": "HMeecVo41bLE"
      },
      "execution_count": 33,
      "outputs": []
    },
    {
      "cell_type": "code",
      "source": [
        "result"
      ],
      "metadata": {
        "colab": {
          "base_uri": "https://localhost:8080/"
        },
        "id": "s1sJ5Rkt2RAS",
        "outputId": "f4478bcb-322f-4eb6-a464-e1ae16a00ffb"
      },
      "execution_count": 27,
      "outputs": [
        {
          "output_type": "execute_result",
          "data": {
            "text/plain": [
              "SequenceClassifierOutput(loss=None, logits=tensor([[-2.7668,  0.6999,  3.7177,  1.2586, -2.5858]],\n",
              "       grad_fn=<AddmmBackward0>), hidden_states=None, attentions=None)"
            ]
          },
          "metadata": {},
          "execution_count": 27
        }
      ]
    },
    {
      "cell_type": "code",
      "source": [
        "int(torch.argmax(result.logits))+1"
      ],
      "metadata": {
        "colab": {
          "base_uri": "https://localhost:8080/"
        },
        "id": "EiBVcP6D2UCI",
        "outputId": "c7d505ff-d196-47d1-8a9e-4db7700f6a20"
      },
      "execution_count": 34,
      "outputs": [
        {
          "output_type": "execute_result",
          "data": {
            "text/plain": [
              "3"
            ]
          },
          "metadata": {},
          "execution_count": 34
        }
      ]
    },
    {
      "cell_type": "code",
      "source": [
        "r = requests.get(\"https://www.yelp.ca/biz/tamasha-toronto\")\n",
        "soup = BeautifulSoup(r.text,'html.parser')\n",
        "regex = re.compile('.*comment.*')\n",
        "results = soup.find_all('p',{'class':regex})\n",
        "reviews = [result.text for result in results]"
      ],
      "metadata": {
        "id": "vGB20RwT2nBi"
      },
      "execution_count": 48,
      "outputs": []
    },
    {
      "cell_type": "code",
      "source": [
        "reviews"
      ],
      "metadata": {
        "colab": {
          "base_uri": "https://localhost:8080/"
        },
        "id": "Q0AVBtSZNVC2",
        "outputId": "1eaed54f-7ce7-4702-bbdb-a0b80e959e12"
      },
      "execution_count": 49,
      "outputs": [
        {
          "output_type": "execute_result",
          "data": {
            "text/plain": [
              "[\"A fun time! This is an indian food/ party spot just below Davisville. Food was fairly good if nothing special. Garlic naan was fresh and the kali mirch had a decent kick to it. The nachos with paneer were surprisingly good. The real reason to come though is to have a late night drink and a good time. Ball don't lie: when we went a few weeks ago Tamasha was by far the busiest restaurant in the neighbourhood. Service was incredibly friendly. We'll be back sometime.\",\n",
              " \"The menu is quite basic. Super overpriced.Had the chicken tandoori momos. \\xa0They were not fried or boiled, but over roasted and stiff. \\xa0Its flavoured on the outside but the chicken doesn't have the tandoori seasoning. \\xa0They provide plain mayonnaise with it. \\xa0A thick mint-cilantro raita would have made more sense. 8 momos for $18.07 was not worth what was received. \\xa0$8 would have been more reasonable..Came in the middle of the week at lunch time. \\xa0It was dead, so lots of seating.It is not Muslim owned but they claim it is all halal and the meat is from A1.No public parking nearby so come by transit or you have to use a public parking about 5 blocks away. \\xa0Green P street parking is limited and next to impossible to get a space.Cool interior design but the food is limited and nothing unique.\",\n",
              " 'So far, I have tried their lunch special. The Chicken Tikka Kathi Roll was delicious and good value for money. Lamb Rogan Josh - Tastes good but the problem is I did not realize how much rice would come with it. Price a bit steep for what you actually get. Food could be spicier but I guess they have to cater to all palates.Both times the order was ready in the time they said it would be. Service is friendly enough for take-out. I see lots of people there on the weekends....so that is probably a good sign. Will try the dinner menu soon.',\n",
              " 'The food is super delicious and the portions are huge. The service is mediocre though - definitely room for improvement.',\n",
              " 'Experience/ambience: not great, could be better with some changesFood : delicious, but poor variety of ingredients in dishesRecommendation: will not frequent this place. May order take outs if craving for paneer and friesMy first experience here was not great because of the super loud music! It was soooo loud that I could barely hear the person sitting right next to me.Food was delicious- especially the Methi Malai Paneer, Hakka Poutine.The sizzler was a little disappointing since it was too sourOne big flaw: almost 90% of their vegetarian menu is dishes made of paneer or fries. So very little options excluding that',\n",
              " \"I came here with a friend of mine to get some modern Indian cuisine, got here at 5PM (yes I Know its early) but we wanted plenty of time to catch up. When I first got there I was given a water to start until my friend reached; not sure if its because we were there early but no one came over to great us after she got there for over an hour. \\xa0The only thing I was told when we first got there was that they had a two hour sit down limit; which considering we were the only ones in the restaurant was a bit rude to mention. I would understand saying that had they been busy at the time. \\xa0Once we finally got served I ordered the aloo tiki burger w peri peri fries and my friend got paneer tika and a side of rice with a sizzling brownie for dessert. My burger was amazing, it reminded me of the food I get in India and the peri peri fries were by far the winner of the night. Burger had a potato patty and a mint chutney which was added a new fresh taste to the burger. \\xa0The Peri peri fries were cripsy and had so much masala on them. Highly recommend. My fries did have a hair in it which is why I'm putting a low score but they were accommodating and provided me with a brand new dish. My friend loved her paneer tika dish (huge portion), although there was not many veggies in the dish itself. Sizzling brownie was delicious, you have hot chocolate fudge on top of a warm brownie with a dollop of ice cream. Another reason why the low stars is due to the washrooms, very smelly and unclean. Also I saw them spray air freshener right outside the kitchen doors and the bar area. Personally that's a little too close to the food for me to spray the freshener.\",\n",
              " 'I visited this lounge yesterday, everything was fine be it drinks and food. Ambiance is also nice. There are certain factors which may turn you down. Number one they have gratuity this is what they refer to a tip, wherein they without asking to a customer impose 18% gratuity on bill. I paid $373 and $53 have been charged without our knowledge. Worst thing ever who impose tip?. World wide it is an option to a customer. Second, they have two hour sitting policy and third they play glimpses of a song, which means 10 seconds for every single track. Most horrible and I consider it a robbery, which they call as \\xa0gratuity.',\n",
              " 'It was a pleasure visiting \\xa0this restaurant. Good food and great service! We recommend the Gol Gappa shots and kala khatta ice lollies',\n",
              " 'Great atmosphere & food! Slow service. Expensive cocktails - even no -alcoholic mocktails have ridiculous prices. Good for a special occasion.',\n",
              " 'food is \\xa0and manager is soo greedy dnt go overthere there are lots of other places nearby they r thinking like they are in india cheap people. They suggest you one thing and give you another iteam. Its very depressin.please dnt go']"
            ]
          },
          "metadata": {},
          "execution_count": 49
        }
      ]
    },
    {
      "cell_type": "code",
      "source": [
        "import pandas as pd\n",
        "import numpy as np"
      ],
      "metadata": {
        "id": "W-PQ-A0gSy-C"
      },
      "execution_count": 50,
      "outputs": []
    },
    {
      "cell_type": "code",
      "source": [
        "df = pd.DataFrame(np.array(reviews),columns=['review'])\n",
        "df['review'].iloc[2]"
      ],
      "metadata": {
        "colab": {
          "base_uri": "https://localhost:8080/",
          "height": 87
        },
        "id": "Sz0WO6O9UCMt",
        "outputId": "6f9f93e5-1e1f-4b0b-8a4a-b4e7928602c2"
      },
      "execution_count": 62,
      "outputs": [
        {
          "output_type": "execute_result",
          "data": {
            "text/plain": [
              "'So far, I have tried their lunch special. The Chicken Tikka Kathi Roll was delicious and good value for money. Lamb Rogan Josh - Tastes good but the problem is I did not realize how much rice would come with it. Price a bit steep for what you actually get. Food could be spicier but I guess they have to cater to all palates.Both times the order was ready in the time they said it would be. Service is friendly enough for take-out. I see lots of people there on the weekends....so that is probably a good sign. Will try the dinner menu soon.'"
            ],
            "application/vnd.google.colaboratory.intrinsic+json": {
              "type": "string"
            }
          },
          "metadata": {},
          "execution_count": 62
        }
      ]
    },
    {
      "cell_type": "code",
      "source": [
        "def sentiment_score(reviews):\n",
        "    tokens = tokenizer.encode(reviews,return_tensors='pt')\n",
        "    result = model(tokens)\n",
        "    return int(torch.argmax(result.logits))+1\n",
        ""
      ],
      "metadata": {
        "id": "TP1Z15gjUSNR"
      },
      "execution_count": 65,
      "outputs": []
    },
    {
      "cell_type": "code",
      "source": [
        "sentiment_score(df['review'].iloc[1])"
      ],
      "metadata": {
        "colab": {
          "base_uri": "https://localhost:8080/"
        },
        "id": "vCfZtWPmV4QX",
        "outputId": "e8eef03f-8f87-4a3e-9739-22a0fab5f0ef"
      },
      "execution_count": 66,
      "outputs": [
        {
          "output_type": "execute_result",
          "data": {
            "text/plain": [
              "2"
            ]
          },
          "metadata": {},
          "execution_count": 66
        }
      ]
    },
    {
      "cell_type": "code",
      "source": [
        "df['sentiment'] = df['review'].apply(lambda x: sentiment_score(x[:512]))"
      ],
      "metadata": {
        "id": "fHhIpw7cabMV"
      },
      "execution_count": 67,
      "outputs": []
    },
    {
      "cell_type": "code",
      "source": [
        "df"
      ],
      "metadata": {
        "colab": {
          "base_uri": "https://localhost:8080/",
          "height": 827
        },
        "id": "WKnKthaXbgp5",
        "outputId": "83ae4a8d-3aea-4430-b791-0566098e909d"
      },
      "execution_count": 68,
      "outputs": [
        {
          "output_type": "execute_result",
          "data": {
            "text/plain": [
              "                                              review  sentiment\n",
              "0  A fun time! This is an indian food/ party spot...          4\n",
              "1  The menu is quite basic. Super overpriced.Had ...          2\n",
              "2  So far, I have tried their lunch special. The ...          3\n",
              "3  The food is super delicious and the portions a...          3\n",
              "4  Experience/ambience: not great, could be bette...          3\n",
              "5  I came here with a friend of mine to get some ...          3\n",
              "6  I visited this lounge yesterday, everything wa...          1\n",
              "7  It was a pleasure visiting  this restaurant. G...          5\n",
              "8  Great atmosphere & food! Slow service. Expensi...          2\n",
              "9  food is  and manager is soo greedy dnt go over...          2"
            ],
            "text/html": [
              "\n",
              "  <div id=\"df-c689e74a-b13d-4588-aca3-73b37b61b59a\" class=\"colab-df-container\">\n",
              "    <div>\n",
              "<style scoped>\n",
              "    .dataframe tbody tr th:only-of-type {\n",
              "        vertical-align: middle;\n",
              "    }\n",
              "\n",
              "    .dataframe tbody tr th {\n",
              "        vertical-align: top;\n",
              "    }\n",
              "\n",
              "    .dataframe thead th {\n",
              "        text-align: right;\n",
              "    }\n",
              "</style>\n",
              "<table border=\"1\" class=\"dataframe\">\n",
              "  <thead>\n",
              "    <tr style=\"text-align: right;\">\n",
              "      <th></th>\n",
              "      <th>review</th>\n",
              "      <th>sentiment</th>\n",
              "    </tr>\n",
              "  </thead>\n",
              "  <tbody>\n",
              "    <tr>\n",
              "      <th>0</th>\n",
              "      <td>A fun time! This is an indian food/ party spot...</td>\n",
              "      <td>4</td>\n",
              "    </tr>\n",
              "    <tr>\n",
              "      <th>1</th>\n",
              "      <td>The menu is quite basic. Super overpriced.Had ...</td>\n",
              "      <td>2</td>\n",
              "    </tr>\n",
              "    <tr>\n",
              "      <th>2</th>\n",
              "      <td>So far, I have tried their lunch special. The ...</td>\n",
              "      <td>3</td>\n",
              "    </tr>\n",
              "    <tr>\n",
              "      <th>3</th>\n",
              "      <td>The food is super delicious and the portions a...</td>\n",
              "      <td>3</td>\n",
              "    </tr>\n",
              "    <tr>\n",
              "      <th>4</th>\n",
              "      <td>Experience/ambience: not great, could be bette...</td>\n",
              "      <td>3</td>\n",
              "    </tr>\n",
              "    <tr>\n",
              "      <th>5</th>\n",
              "      <td>I came here with a friend of mine to get some ...</td>\n",
              "      <td>3</td>\n",
              "    </tr>\n",
              "    <tr>\n",
              "      <th>6</th>\n",
              "      <td>I visited this lounge yesterday, everything wa...</td>\n",
              "      <td>1</td>\n",
              "    </tr>\n",
              "    <tr>\n",
              "      <th>7</th>\n",
              "      <td>It was a pleasure visiting  this restaurant. G...</td>\n",
              "      <td>5</td>\n",
              "    </tr>\n",
              "    <tr>\n",
              "      <th>8</th>\n",
              "      <td>Great atmosphere &amp; food! Slow service. Expensi...</td>\n",
              "      <td>2</td>\n",
              "    </tr>\n",
              "    <tr>\n",
              "      <th>9</th>\n",
              "      <td>food is  and manager is soo greedy dnt go over...</td>\n",
              "      <td>2</td>\n",
              "    </tr>\n",
              "  </tbody>\n",
              "</table>\n",
              "</div>\n",
              "    <div class=\"colab-df-buttons\">\n",
              "\n",
              "  <div class=\"colab-df-container\">\n",
              "    <button class=\"colab-df-convert\" onclick=\"convertToInteractive('df-c689e74a-b13d-4588-aca3-73b37b61b59a')\"\n",
              "            title=\"Convert this dataframe to an interactive table.\"\n",
              "            style=\"display:none;\">\n",
              "\n",
              "  <svg xmlns=\"http://www.w3.org/2000/svg\" height=\"24px\" viewBox=\"0 -960 960 960\">\n",
              "    <path d=\"M120-120v-720h720v720H120Zm60-500h600v-160H180v160Zm220 220h160v-160H400v160Zm0 220h160v-160H400v160ZM180-400h160v-160H180v160Zm440 0h160v-160H620v160ZM180-180h160v-160H180v160Zm440 0h160v-160H620v160Z\"/>\n",
              "  </svg>\n",
              "    </button>\n",
              "\n",
              "  <style>\n",
              "    .colab-df-container {\n",
              "      display:flex;\n",
              "      gap: 12px;\n",
              "    }\n",
              "\n",
              "    .colab-df-convert {\n",
              "      background-color: #E8F0FE;\n",
              "      border: none;\n",
              "      border-radius: 50%;\n",
              "      cursor: pointer;\n",
              "      display: none;\n",
              "      fill: #1967D2;\n",
              "      height: 32px;\n",
              "      padding: 0 0 0 0;\n",
              "      width: 32px;\n",
              "    }\n",
              "\n",
              "    .colab-df-convert:hover {\n",
              "      background-color: #E2EBFA;\n",
              "      box-shadow: 0px 1px 2px rgba(60, 64, 67, 0.3), 0px 1px 3px 1px rgba(60, 64, 67, 0.15);\n",
              "      fill: #174EA6;\n",
              "    }\n",
              "\n",
              "    .colab-df-buttons div {\n",
              "      margin-bottom: 4px;\n",
              "    }\n",
              "\n",
              "    [theme=dark] .colab-df-convert {\n",
              "      background-color: #3B4455;\n",
              "      fill: #D2E3FC;\n",
              "    }\n",
              "\n",
              "    [theme=dark] .colab-df-convert:hover {\n",
              "      background-color: #434B5C;\n",
              "      box-shadow: 0px 1px 3px 1px rgba(0, 0, 0, 0.15);\n",
              "      filter: drop-shadow(0px 1px 2px rgba(0, 0, 0, 0.3));\n",
              "      fill: #FFFFFF;\n",
              "    }\n",
              "  </style>\n",
              "\n",
              "    <script>\n",
              "      const buttonEl =\n",
              "        document.querySelector('#df-c689e74a-b13d-4588-aca3-73b37b61b59a button.colab-df-convert');\n",
              "      buttonEl.style.display =\n",
              "        google.colab.kernel.accessAllowed ? 'block' : 'none';\n",
              "\n",
              "      async function convertToInteractive(key) {\n",
              "        const element = document.querySelector('#df-c689e74a-b13d-4588-aca3-73b37b61b59a');\n",
              "        const dataTable =\n",
              "          await google.colab.kernel.invokeFunction('convertToInteractive',\n",
              "                                                    [key], {});\n",
              "        if (!dataTable) return;\n",
              "\n",
              "        const docLinkHtml = 'Like what you see? Visit the ' +\n",
              "          '<a target=\"_blank\" href=https://colab.research.google.com/notebooks/data_table.ipynb>data table notebook</a>'\n",
              "          + ' to learn more about interactive tables.';\n",
              "        element.innerHTML = '';\n",
              "        dataTable['output_type'] = 'display_data';\n",
              "        await google.colab.output.renderOutput(dataTable, element);\n",
              "        const docLink = document.createElement('div');\n",
              "        docLink.innerHTML = docLinkHtml;\n",
              "        element.appendChild(docLink);\n",
              "      }\n",
              "    </script>\n",
              "  </div>\n",
              "\n",
              "\n",
              "<div id=\"df-9591abb9-ecc2-4b94-b183-e8ee65bc228d\">\n",
              "  <button class=\"colab-df-quickchart\" onclick=\"quickchart('df-9591abb9-ecc2-4b94-b183-e8ee65bc228d')\"\n",
              "            title=\"Suggest charts.\"\n",
              "            style=\"display:none;\">\n",
              "\n",
              "<svg xmlns=\"http://www.w3.org/2000/svg\" height=\"24px\"viewBox=\"0 0 24 24\"\n",
              "     width=\"24px\">\n",
              "    <g>\n",
              "        <path d=\"M19 3H5c-1.1 0-2 .9-2 2v14c0 1.1.9 2 2 2h14c1.1 0 2-.9 2-2V5c0-1.1-.9-2-2-2zM9 17H7v-7h2v7zm4 0h-2V7h2v10zm4 0h-2v-4h2v4z\"/>\n",
              "    </g>\n",
              "</svg>\n",
              "  </button>\n",
              "\n",
              "<style>\n",
              "  .colab-df-quickchart {\n",
              "      --bg-color: #E8F0FE;\n",
              "      --fill-color: #1967D2;\n",
              "      --hover-bg-color: #E2EBFA;\n",
              "      --hover-fill-color: #174EA6;\n",
              "      --disabled-fill-color: #AAA;\n",
              "      --disabled-bg-color: #DDD;\n",
              "  }\n",
              "\n",
              "  [theme=dark] .colab-df-quickchart {\n",
              "      --bg-color: #3B4455;\n",
              "      --fill-color: #D2E3FC;\n",
              "      --hover-bg-color: #434B5C;\n",
              "      --hover-fill-color: #FFFFFF;\n",
              "      --disabled-bg-color: #3B4455;\n",
              "      --disabled-fill-color: #666;\n",
              "  }\n",
              "\n",
              "  .colab-df-quickchart {\n",
              "    background-color: var(--bg-color);\n",
              "    border: none;\n",
              "    border-radius: 50%;\n",
              "    cursor: pointer;\n",
              "    display: none;\n",
              "    fill: var(--fill-color);\n",
              "    height: 32px;\n",
              "    padding: 0;\n",
              "    width: 32px;\n",
              "  }\n",
              "\n",
              "  .colab-df-quickchart:hover {\n",
              "    background-color: var(--hover-bg-color);\n",
              "    box-shadow: 0 1px 2px rgba(60, 64, 67, 0.3), 0 1px 3px 1px rgba(60, 64, 67, 0.15);\n",
              "    fill: var(--button-hover-fill-color);\n",
              "  }\n",
              "\n",
              "  .colab-df-quickchart-complete:disabled,\n",
              "  .colab-df-quickchart-complete:disabled:hover {\n",
              "    background-color: var(--disabled-bg-color);\n",
              "    fill: var(--disabled-fill-color);\n",
              "    box-shadow: none;\n",
              "  }\n",
              "\n",
              "  .colab-df-spinner {\n",
              "    border: 2px solid var(--fill-color);\n",
              "    border-color: transparent;\n",
              "    border-bottom-color: var(--fill-color);\n",
              "    animation:\n",
              "      spin 1s steps(1) infinite;\n",
              "  }\n",
              "\n",
              "  @keyframes spin {\n",
              "    0% {\n",
              "      border-color: transparent;\n",
              "      border-bottom-color: var(--fill-color);\n",
              "      border-left-color: var(--fill-color);\n",
              "    }\n",
              "    20% {\n",
              "      border-color: transparent;\n",
              "      border-left-color: var(--fill-color);\n",
              "      border-top-color: var(--fill-color);\n",
              "    }\n",
              "    30% {\n",
              "      border-color: transparent;\n",
              "      border-left-color: var(--fill-color);\n",
              "      border-top-color: var(--fill-color);\n",
              "      border-right-color: var(--fill-color);\n",
              "    }\n",
              "    40% {\n",
              "      border-color: transparent;\n",
              "      border-right-color: var(--fill-color);\n",
              "      border-top-color: var(--fill-color);\n",
              "    }\n",
              "    60% {\n",
              "      border-color: transparent;\n",
              "      border-right-color: var(--fill-color);\n",
              "    }\n",
              "    80% {\n",
              "      border-color: transparent;\n",
              "      border-right-color: var(--fill-color);\n",
              "      border-bottom-color: var(--fill-color);\n",
              "    }\n",
              "    90% {\n",
              "      border-color: transparent;\n",
              "      border-bottom-color: var(--fill-color);\n",
              "    }\n",
              "  }\n",
              "</style>\n",
              "\n",
              "  <script>\n",
              "    async function quickchart(key) {\n",
              "      const quickchartButtonEl =\n",
              "        document.querySelector('#' + key + ' button');\n",
              "      quickchartButtonEl.disabled = true;  // To prevent multiple clicks.\n",
              "      quickchartButtonEl.classList.add('colab-df-spinner');\n",
              "      try {\n",
              "        const charts = await google.colab.kernel.invokeFunction(\n",
              "            'suggestCharts', [key], {});\n",
              "      } catch (error) {\n",
              "        console.error('Error during call to suggestCharts:', error);\n",
              "      }\n",
              "      quickchartButtonEl.classList.remove('colab-df-spinner');\n",
              "      quickchartButtonEl.classList.add('colab-df-quickchart-complete');\n",
              "    }\n",
              "    (() => {\n",
              "      let quickchartButtonEl =\n",
              "        document.querySelector('#df-9591abb9-ecc2-4b94-b183-e8ee65bc228d button');\n",
              "      quickchartButtonEl.style.display =\n",
              "        google.colab.kernel.accessAllowed ? 'block' : 'none';\n",
              "    })();\n",
              "  </script>\n",
              "</div>\n",
              "    </div>\n",
              "  </div>\n"
            ]
          },
          "metadata": {},
          "execution_count": 68
        },
        {
          "output_type": "display_data",
          "data": {
            "text/plain": [
              "<google.colab._quickchart_helpers.SectionTitle at 0x7a16b77a8ee0>"
            ],
            "text/html": [
              "<h4 class=\"colab-quickchart-section-title\">Values</h4>\n",
              "<style>\n",
              "  .colab-quickchart-section-title {\n",
              "      clear: both;\n",
              "  }\n",
              "</style>"
            ]
          },
          "metadata": {}
        },
        {
          "output_type": "display_data",
          "data": {
            "text/plain": [
              "import numpy as np\n",
              "from google.colab import autoviz\n",
              "\n",
              "def value_plot(df, y, figscale=1):\n",
              "  from matplotlib import pyplot as plt\n",
              "  df[y].plot(kind='line', figsize=(8 * figscale, 4 * figscale), title=y)\n",
              "  plt.gca().spines[['top', 'right']].set_visible(False)\n",
              "  plt.tight_layout()\n",
              "  return autoviz.MplChart.from_current_mpl_state()\n",
              "\n",
              "chart = value_plot(df, *['sentiment'], **{})\n",
              "chart"
            ],
            "text/html": [
              "      <div class=\"colab-quickchart-chart-with-code\" id=\"chart-389dd3ce-d007-4d59-97b6-201b46155d5a\">\n",
              "        <img src=\"data:image/png;base64,iVBORw0KGgoAAAANSUhEUgAAAYwAAADECAYAAACMRRb/AAAAOXRFWHRTb2Z0d2FyZQBNYXRwbG90\n",
              "bGliIHZlcnNpb24zLjcuMSwgaHR0cHM6Ly9tYXRwbG90bGliLm9yZy/bCgiHAAAACXBIWXMAAA9h\n",
              "AAAPYQGoP6dpAAAlaklEQVR4nO3deXhU9bkH8O+ZmWSy7yFA9oQkbCFhC2FNUEHBBQRUqhZp5aKo\n",
              "bV2qLVdRcQneW7U3xYrLtRTaKyKyVBat7CAIYQkQEhISspBAIBvZk0lm5tw/JhOJBphJZuacyXw/\n",
              "z5PngXDmnPcZx7w57/n93lcQRVEEERHRLSikDoCIiOwDEwYREZmECYOIiEzChEFERCZhwiAiIpMw\n",
              "YRARkUmYMIiIyCRMGEREZBImDCIiMgkTBpEJZsyYgTfffFPqMIgkJbA1CNGPiouLERkZifz8fAwa\n",
              "NEjqcLqQc2zkGHiHQUREJmHCILv0wQcfIDo6Gp6enggKCsLChQsBALW1tViyZAnCw8Ph7++PmTNn\n",
              "orCwsPN1CxcuxPz58/HMM8/A398fQUFBWLZsWee/Dxs2DACQkJAADw8PPPnkkwCA1NRUvPLKK53H\n",
              "CYKA9PR0jB8/Hu7u7khISEBWVhY2bNiAuLg4eHl5Yd68eWhsbOx8jbViI7IZkcjOnD9/XnR1dRWz\n",
              "srJEURTFhoYGcf/+/aJerxdTU1PFhx9+WKyurhZbW1vFl156SRwyZIjY1tYmiqIoPvbYY6Kzs7O4\n",
              "bt06UavViocPHxZVKpW4Z88eURRFsaioSAQg5ufnd7lmSkqK+PLLL3f+HYCYmJgoFhYWihqNRnzg\n",
              "gQfEqKgoceHChWJ9fb145coVMSoqSkxLSxNFUbRqbES2wjsMsjsqlQqiKCI7Oxv19fXw8PDAlClT\n",
              "kJmZiUOHDuHjjz+Gn58f1Go10tLSUFRUhKNHj3a+fuLEiZg/fz6USiXGjx+PxMREZGRkmB3H888/\n",
              "j8jISDg7O+ORRx5BYWEh0tLSOu96Zs6c2XleW8dGZA0qqQMgMldkZCS++OILrFq1Ck888QRiYmLw\n",
              "/PPPQ6FQQKvVIiQk5GevKS0t7fzzwIEDu/ybu7s7GhoazI5jwIABXc7R3feM583Pz7dpbETWwIRB\n",
              "dmnWrFmYNWsWtFotNm3ahPnz52Pv3r1wdnZGZWUlnJycenRehcI6N939+/eXbWxEpuInkOxOXl4e\n",
              "duzYgcbGRqhUKnh7ewMAQkJCMHz4cCxZsgQVFRUAgGvXrmHjxo1obm426dyBgYFQKBTIy8uzaMyT\n",
              "Jk2SbWxEpmLCILvT1taGt99+G8HBwfDy8sILL7yAtWvXIjo6Gjt37oSbmxvGjRsHT09PJCQkYPPm\n",
              "zRAEwaRzu7q6Ii0tDYsWLYKPjw+eeuopi8SsVCplGxuRqbhxj4iITMI7DCIiMgkTBhERmYQJg4iI\n",
              "TMKEQUREJmHCICIikzBhEBGRSZgwiIjIJDZNGOnp6ba8HBERWZBNE0ZJSYktL0dERBbEkhQREZnE\n",
              "7IQRERGBuLg4JCYmIjExEevXr7dGXEREJDM9am++fv16JCYmWjgUIiKSM5akiEi28q824EhhtdRh\n",
              "UIce3WEsWLAAoigiKSkJ77zzDgIDA392jEajgUaj6fI9nU7XsyiJyOHo9CIe/t+jqGrUYNtvJmHY\n",
              "QG+pQ3J4Zt9hHDhwAGfOnMHJkycREBCAxx57rNvjVqxYAW9v7y5fnE1MRKY6VXoNlQ0aiCKw/ljp\n",
              "rV9AVmd2wggLCwMAODk54dlnn8XBgwe7PW7p0qWoq6vr8pWUlNS7aInIYezJrej885bMS2htZ4VC\n",
              "amYljKamJtTW1nb+fd26dRg5cmS3x6rVanh5eXX5UiqVvQqWiBzH3tzKzj/Xt2rx7+wrEkZDgJkJ\n",
              "4+rVq5g6dSpGjBiB+Ph47N+/H2vXrrVWbETkoK7UtSKnvB6CACwYHw6AZSk5MOuhd1RUFDIzM60V\n",
              "CxERAGD/eUM5akSIDxZPicI/jpTg8IVqlNY0I9TPTeLoHBeX1RKR7BjLUVPjAhHi64ZJgwIAABuO\n",
              "8y5DSkwYRCQrbVo9vi+oAgBMjesHAHhwTCgAYMOJMuj0omSxOTomDCKSleMlNWjUaOHv7oz4YMPe\n",
              "i+nDguDj5oTyulYczK+8xRnIWpgwiEhW9uUZEkJKXCAUCgEAoFYpMTsxGACw4XiZZLE5OiYMIpKV\n",
              "vR37L4zlKCNjWeq7nCuoaWqzeVzEhEFEMlJa04z8ikYoBGBKTNeWQ0MHeiE+2BvtOhGbMy9JFKFj\n",
              "Y8IgItnYd95Qjhod7gtvN6ef/fuDYw13GV8eK4Uo8uG3rTFhEJFs7OsoR6X+pBxldF/CQKhVCuRd\n",
              "bcCZsjpbhkZgwiAimWht1+HQha7LaX/K29UJM4b3BwCs554Mm2PCICJZOFpUg9Z2PYK81BgywPOG\n",
              "xxnLUltPXUZLGxsS2hITBhHJwvWrowRBuOFxyZH+CPNzQ4NGix1Z5bYKj8CEQUQysS/v5s8vjBQK\n",
              "AQ+OCQEAfMmylE0xYRCR5IqqmlBc3QwnpYBJMQG3PH7u6BAoBEMZq7iqyQYREsCEQUQyYCxHJUX6\n",
              "wUN96ybaA7xdMSXWsE+Ddxm2w4RBRJLbm9f97u6beahj5/dXJ8qg1emtEhd1xYRBRJJq0mhxtLAG\n",
              "wK2fX1zv9iFB8HN3RkWDBgfYkNAmmDCISFKHL1SjTadHqJ8rogPdTX6ds0qB+0caGhJyGp9tMGEQ\n",
              "kaSuL0fdbDltdx7q2JOx+1wFKhs0Fo+NumLCICLJiKLY2Q7EnOcXRrFBnkgM9YFWL2JzJtueWxsT\n",
              "BhFJ5vzVRlyua4VapUBylH+PzmG8y/jyeBkbEloZEwYRScZYjhof7Q9XZ2WPznHPiAFwdVKioKIR\n",
              "Jy/WWjA6+ikmDCKSzI2GJZnD08UJM+MHADC0PSfr6XHCWL16NQRBwJYtWywYDhE5ivrWdhwvuQag\n",
              "dwkD+LEste3MZTRptL2OjbrXo4RRXFyMTz/9FMnJyZaOh4gcxPf5VdDpRUQFuiPM361X5xob4YvI\n",
              "AHc0temwnQ0JrcbshKHX67Fo0SKsXLkSarXaGjF1q02rx7HiGptdj4isyxLlKCNBEPCAsSEhy1JW\n",
              "Y3bCeP/99zFx4kSMHj36psdpNBrU19d3+dLpeta7/lpTG+5KP4BHPj3KRmNEfYBeL3aOY7VEwgCA\n",
              "eaNCoFQIOF5yDQUVjRY5J3VlVsI4e/YsNm7ciFdeeeWWx65YsQLe3t5dvjIyMnoUpI+bE0J93dCm\n",
              "0+PtHed6dA4iko+c8npUNmjg5qzE2Ehfi5yzn5cLpsYZGhJuYENCqzArYRw8eBDFxcWIiYlBREQE\n",
              "jhw5gsWLF2PVqlU/O3bp0qWoq6vr8pWUlNSjIAVBwLJ7hkClELAz5yoOsm8MkV0zlqMmDQqAWtWz\n",
              "5bTdeaCjIeHGk5fQzoaEFmdWwliyZAnKy8tRXFyM4uJiJCcn45NPPsGSJUt+dqxarYaXl1eXL6Wy\n",
              "5x+MQf08sWB8BADgja057E5JZMc624EMtkw5yui2wf0Q4KFGVaOmMymR5djVPozf3R4DP3dn5Fc0\n",
              "4p9HSqQOh4h6oKapDZmltQCA1I4SkqU4KRWYO8rQkJBzMiyvVwlj3759mD17toVCuTVvNye8MD0W\n",
              "APD+zvOoaWqz2bWJyDIO5ldCFIHB/T0xwNvV4uc3lqX25lWior7V4ud3ZHZ1hwEA88eGYXB/T9S3\n",
              "avHnneelDoeIzNS5nNbC5SijQf08MDrcFzq9iI0nL1nlGo7K7hKGUiHgtXuHAQD+72gJcq/USxwR\n",
              "EZlKpxex38LLabtjnMa34XgpGxJakN0lDMDQqGxmfH/oRWD51zn8QBDZiVOltbjW3A5PFxVGhflY\n",
              "7Tp3jxgAd2clCquacKz4mtWu42jsMmEAwNIZQ+CsUuCHwmr8O/uq1OEQkQn2dayOmhIbCJXSej9+\n",
              "3NUq3DNiIABO47Mku00YoX5ueGJKFADg7R05aG3v2S5yIrKd66frWduDYw2tQnZklaOhtd3q13ME\n",
              "dpswAGBJajT6e7mgtKYFn31fJHU4RHQTFfWtOHvJ8MwxJdayy2m7MyrMF9GB7mhp12HbGTYktAS7\n",
              "ThhuziosnTkYAPDXvQW4UscldERyZewdNSLEG4Ge1m9cKghCZ9tzlqUsw64TBgDclzAQo8N90dym\n",
              "w39/myt1OER0A8bnF6k2KEcZ3T8yBCqFgFOltTh/tcFm1+2r7D5hCIKA1+4dCgDYlHkJJy9yRQSR\n",
              "3LTr9Dh4vgoAOhsE2kKgpxq3dez3YNvz3rP7hAEAI0J88MBowwOu5VtzoNdzmS2RnJwouYYGjRZ+\n",
              "7s4YEeJj02sby1KbMi+hTcsedL3RJxIGALx4VxzcnZU4XVqLzZnc3UkkJ8bVUSmxgVAqBJteOyU2\n",
              "EP081ahpasPuc1yC3xt9JmH083TBb26PAQD817e5aORcXyLZ2JdreOBt6WaDplApFZjXUYFYz4aE\n",
              "vdJnEgYA/GpiBML93VDRoMGHewukDoeIAFyqbUHe1QYoBNssp+2OsSHhgfOVKK9rkSSGvqBPJQy1\n",
              "SolX7jY8AP/fg0W4WN0scUREZFwdNSrMFz5uzpLEEBngjqRIP+hFYOOJMkli6Av6VMIAgDuG9MPk\n",
              "mAC06fR4a3uO1OEQOby9HeUoa3WnNZWxIeGXx8u4MKaH+lzCEAQBr94zFEqFgO9yruL7/CqpQyJy\n",
              "WBqtDocKDP8PSvH84noz4wfAQ63CxZpmHCmqljQWe9XnEgYAxAR54pfJ4QCAN7Zlc5wrkUQyimrQ\n",
              "0q5DP081hg7wkjQWV2cl7k0wNCTccJxlqZ7okwkDAJ67Ixa+bk44f7URn2dclDocIofUWY6K6wdB\n",
              "sO1y2u4Y92TsyCpHXQsbEpqrzyYMbzcnPD89DgDw3nfncY3jXIlszvjAe+pgactRRgkh3ogL8oRG\n",
              "q8fXpy9LHY7d6bMJAwB+MTYUg/t7oq6lHf+zi+NciWypuKoJhVVNUCkETBwUIHU4AAzPOB/suMtg\n",
              "qxDz9emEoVIq8Oo9hmW2/zx6EXlX2HyMyFaMdxdjI/zg6eIkcTQ/un9kMJyUArIu1SHnMkc8m6NP\n",
              "JwwAmDAoAHcN6w+dXsQb27I5zpXIRvbkGZfTyqMcZeTn7oxpQ4MAAF9y57dZzE4Y06dPx4gRI5CY\n",
              "mIjJkycjMzPTGnFZ1H/ONIxzPVRQjZ057CVDZG3NbVocKTQsXbXFdD1zPdixJ2PLqUvQaDmt01Rm\n",
              "J4wvv/wSZ86cwalTp/D8889j4cKFVgjLssL83fAfkyMBAG9tP8dxrkRW9sOFarRp9Qj2ccWgfh5S\n",
              "h/Mzk2MCMcDbBbXN7fgum79EmsrshOHj49P557q6OlkslTPFU6mDEOSlxsWaZvztEMe5ElnT3utW\n",
              "R8nxZ4RSIXQ2JGRZynSqnrxowYIF2Lt3LwBgx44d3R6j0Wig0Wi6fE+nk+43e3e1Cn+cMRjPrT+N\n",
              "D/YUYO6oEAR5uUgWj6Vdqm3Bn77NRWWj5tYHk2w4KRX47e0xGBXmK3UoFiOKYpf9F3L1wOhQrNxT\n",
              "gO8LqlB2rRkhvm5ShyR7PUoYa9euBQCsWbMGf/jDH7pNGitWrMDy5cu7fC85Obknl7OYWQnBWPtD\n",
              "CTIv1uK/v83Dew8mSBqPpWSV1eHXa46hsoHJwh4VVzXhu+dS4KzqG2tQCioacam2Bc4qBcZH+0sd\n",
              "zg2F+bthQrQ/Dl+oxlcnyvDsHbFShyR7gtjLZUOurq4oKyuDv3/XD0Z3dxjLli1Denp6by7Xa6dK\n",
              "azH7r4cAAFuenojEUB9J4+mtXTlX8Zt1mWhp1yEuyBNLUqMhwwoA3cBb28+hskGDpTMG44mUaKnD\n",
              "sYhPDlxA2o5cpMQGYs2vk6QO56a2ZF7Cs+tPIdjHFQdfmgqFjYc72Ruz7jBqa2vR3NyMgQMN/Vi2\n",
              "bNkCf39/+Pn5/exYtVoNtVrd5XtKpbIXoVpGYqgP5o4KwcaTZXj962xsWjLBbj8kfz9UhDe25UAv\n",
              "ApNjAvDXR0bBS0br3enW2rR6vPjVGazcU4D7RwWjn6f9l0l/LEfJazltd+4a3h+e/1LhUm0LDl2o\n",
              "wuQY+ccsJbPugevq6jB79mzEx8cjISEBH3zwAbZt2ybLh1o384eOca6nSmvxr9P2N85VpxfxxtYc\n",
              "vL7VkCzmjw3F3xaOZbKwQ3NHhWBEiDcaNVq8++88qcPptYbWdhwrrgEApMr4+YWRi5MSsxODARja\n",
              "ntPNmZUwwsPDkZGRgaysLJw+fRq7du1CYmKilUKznn5eLnj6tkEAgHe+yUWTHY1zbW7T4sl/nuhc\n",
              "6fXinXFYMSceTsq+Uf92NAqFgNfuHQYA2HCiDGfKaqUNqJcOFVRBqxcRFeCOiAB3qcMxibEh4b+z\n",
              "r6C2mT3nbsZhf8r8emIkwvzccLVegw/32cc414qGVsz/5Ah25lyFs0qBv/xiJJ6eOsju7vCoq9Hh\n",
              "vpidOBCiCCzfmmPX3Qj2ds7ulv/dhdGwgV4YMsALbVo9tmTaX8XBlhw2Ybg4KfHy3UMAAJ/awTjX\n",
              "/KsNuP+vh3GmrA6+bk74fNE43NfR25/s3x9nDIGrkxInSq7ZbRdVURS77L+wF4Ig4KExhj0Z64+X\n",
              "2XXCtjaHTRgAMH1oECYO8kebVo+0HeekDueGDhdUYc6qw7hU24IIfzdsemoixkT8fKEB2a/+3i54\n",
              "eqphldQ73+Siuc1+yqRGOeX1qGjQwNVJiaRI+/p8zh4ZDGeVAufK65HNhoQ35NAJwzDOdRiUCgHf\n",
              "Zl/B4QL5jXPdcLwUC/6WgYZWLcaE+2LTUxMRaSe1YTLPoslRCPF1RXldKz7aXyh1OGbb19FscOKg\n",
              "AKhV0q+INIePmzPuHNYfALCebc9vyKETBgDE9ffEo+PCAABvbMuRzThXURTx3nd5ePGrM9DqRdyb\n",
              "MBD/XDQOfu7OUodGVuLipMTLMw1l0o/3X0DZNXmXSX9qb679laOu92BHWWrLqUvsN3cDDp8wAOC5\n",
              "abHwcXNC7pUGrJPBbxcarQ7PrT+FlXsMD+OfnhqN9IcS4eJkX7+1kfnuGt4fyVF+0Gj1WLEjV+pw\n",
              "TFbb3IaTF68BsK8H3tebGB2AYB9XNLRq8e3ZK1KHI0tMGDDcjj4/zdAW4P3v8iRdWlfb3IZffpaB\n",
              "LacuQ6kQ8F9z4/HinYPtdnMhmcdYJlUIwPas8s4W4XJ3IL8KehGIC/JEsI+r1OH0iEIh4IExbEh4\n",
              "M0wYHR5OCkNskAeuNbfjf3blSxJDSXUT5qw6jIyiGniqVfj7r8biobFhksRC0hk60Au/SDL8d1++\n",
              "NQc6vfxX7ezrKEel2mk5ymje6BAIAnD4QrXsV05KgQmjg0qp6NxA9Y8jJTh/1bbjXE+UXMP9Hx5G\n",
              "YWUTBnq7YMOS8WxT4MBemB4HLxcVzpXXy/4hrE4vYt95+XenNUWIrxsmdcwf33BC3u+7FJgwrjNx\n",
              "UACmDw2CTi/izW2220C1/Uw5fvHpEdQ0tWF4sBc2Pz0Rg/t72eTaJE9+7s54rqNM+u53eahraZc4\n",
              "ohs7U1aLmqY2eKpVGB1u/23ajdP4vjpRZhd3d7bEhPETL989BM5KBQ7mV2HXuQqrXksURXy0/wKe\n",
              "/vwk2rR63DGkH9YvHt+n5nRQzz2aHI5B/TxQ09SGv+yWpkxqir0dy2knxwb0iRY104cFwcfNCeV1\n",
              "rTiYXyl1OLJi//91LSzc3x2Pd45zzbHavF+tTo+Xt5zFO98YVsIsnBCBj385Bu7qHo0ooT7ISanA\n",
              "snuGAgDWHC5GQUWjxBF1b1/H7m57XR31U2rV9Q0JWZa6HhNGN56eOgiBnmqUVDdj9aFii5+/UaPF\n",
              "42uO4/OjFyEIwKv3DMXr9xk2EBJdLyU2EHcM6QetXsRb23OkDudnKhs0OFNWBwBItYN25qYylqV2\n",
              "5lxFNadYdmLC6IaHWoU/3DUYALBydz4qGlotdu7yuhbMW3UY+89XwsVJgY8eHY1fT4q02Pmp73n5\n",
              "7qFwUgrYl1eJPblXpQ6ni/0dD7vjg737xCwPo6EDvRAf7I12nYjNbEjYiQnjBuaMDEZCqA+a2nT4\n",
              "07eWmVOQfbkOs/96CLlXGhDgocb6xeM72xEQ3UhkgDt+PdHwS8Wb286hTSuPbgQAfmw22IfuLowe\n",
              "7Gh7/uXxUjYk7MCEcQOGOQWG+vGGE2U4XVrbq/Ptza3Agx/9gKv1GsT088DmpyYgwc7Hw5LtPHPb\n",
              "IAR4OKOoqglrDhdLHQ4Aw3O4Ax13GKmD+8bzi+vdlzAQapUC56824nRH2c3RMWHcxKgwX8wZaXj4\n",
              "tXxrdo9/y/jHkRI8vuYYmtp0mBDtj6+WTECon5slQ6U+ztPFCS/daSiT/mV3PiobpK+rn7xYi4ZW\n",
              "LXzdnJAQ4iN1OBbn7eqEGcPZkPB6TBi38NJdg+HmrMTJi7X41ynz5hTo9SLSdpzDsi1noRcNu0j/\n",
              "/qskeLtylCqZb97oEMQHe6NBo8V730k/ztVYjkqJDeyzCzaMZamtpy/bZct5S2PCuAXDnALDONcV\n",
              "35wzeZxra7sOT39+Ep8cMLSp/v30WPxp3gg4q/iWU88oFAJev89QJl1/vBRnL0lbJvmxO23fK0cZ\n",
              "JUf6I8zPDY0aLb7JYkNC/vQyweOTIhHi64qr9Rp8tP/CLY+vatRg/idH8M3ZK3BWKpA+PxHP3BbD\n",
              "UarUa6PD/TCrc5xrz8ukvVVe14LcKw0QBGBKH25ho1AIeGC0cRofy1JMGCZwcVLilY5xrh8fKERp\n",
              "zY2bkhVUNOL+Dw/hVGktvF2d8I/HkzCrYxMQkSX8ccZguDopcaz4GradKZckBuOwpJGhPvDt4zNa\n",
              "5o0JgUIAMopqUFTVJHU4kmLCMNGdw/pjfJRhnOuKb7of53qksBpzPjyE0poWhPm5YdNTEzAuyt/G\n",
              "kVJfN8DbFUtSDeNcV+w4h5Y22w/76SxH9ZHd3TczwNsVU2INd1GOvvObCcNEgiDg1XuHQiEAO7Ku\n",
              "4IcLXecUbM4swy8/O4r6Vi1Ghflg81MTEB3oIVG01NctnhKFYB9XXK5rNalMakkarQ6HOsYZ9+Xn\n",
              "F9d7qGPn98YTZbKZyikFsxJGa2srZs+ejdjYWCQkJGDatGkoKCiwVmyyM2SAFx4eZ5xTkA2dXoQo\n",
              "ikjflY/n1p9Gu07E3fED8Pl/JMPfQy1xtNSXuTgp8Z8d41w/2n8Bl2pbbHbt48XX0NSmQ6CnGkMH\n",
              "OEZX5duHBMHP3RkVDZrO3e2OyOw7jMWLFyMvLw+nT5/GrFmzsGjRImvEJVsvTIuDt6thnOvaH4rx\n",
              "+w1n8Odd5wEAT6ZEY+UvRnKUKtnEzPj+SIo0jnPtvkxqDcZyVGpsoMNMgnRWKXB/x54sR96TYVZr\n",
              "VBcXF8ycObPz78nJyXj33XctHpSc+bo747k7YvD61hws32poBqdUCHhz1vDOuw8iWxAEQzeCe1d+\n",
              "j21nyrFgfA2SIv2sft3OdiAOUo4yemhsKD77vgh7civwzyMlcFLKJ1n293ZFSqz1V6v1qpd2eno6\n",
              "Zs2a1e2/aTQaaDRdd6PqdLZ/OGcNjySH4/+OXkR+RSM81Cp88PDIPtPamezLsIHemJ8Uhs+PXsTy\n",
              "rdn4+plJVt1Ed7G6GRcqm6BSCJgUE2C168hRbJAnEkN9cKq0Fq9sOSt1OF2kxAbKO2GkpaWhoKAA\n",
              "u3fv7vbfV6xYgeXLl3f5XnJyck8vJytOSgU+fGQU1vxQjEeTwzkdjyT1wrRYbD19GdmX67HheCnm\n",
              "J1nvTtd4dzEmwhdeLo7XseD1+4bho30X0C6zB9/Dg71tch1B7MHOn3fffRdffPEFdu3aBR8fn26P\n",
              "6e4OY9myZUhPT+9RoER0Y599X4Q3t+XA390Ze19MtdoP84WrM7AvrxJLZwzGEynRVrkGyZfZD73f\n",
              "f/99rFu3Djt37rxhsgAAtVoNLy+vLl9KJR8GE1nDgvHhiA50R3VTG/6yyzrjXFvadJ3LyR3t+QUZ\n",
              "mJUwysrK8MILL6C2thZTp05FYmIixo0bZ63YiMhE149z/fvhYlyotPw41yOF1dBo9Qj2cUVMP+4x\n",
              "ckRmPcMICQnhIBEimUqN64fbBvfDntwKvLUtB6t/lWTR8+/tnN0dyL5oDoo7vYn6kFfuHgKVQsDe\n",
              "vMrO/RKWIIoi9jhQOxDqHhMGUR8SFeiBX02MAAC8uT3HYuNcL1Q2oexaC5yVCkwYxP5ojooJg6iP\n",
              "+c3tMQjwcEZhZRPW/lBskXPu6yhHjYvyg5tzr7ZvkR1jwiDqY7xcnPDinXEAgPTd+ahq7P04187d\n",
              "3SxHOTQmDKI+aN7oUAwP9kJDqxbvfXe+V+dq1GiRUVQDgMtpHR0TBlEfpFQIeO3eYQCAL45dRPbl\n",
              "no9zPVRQhXadiAh/N0QGuFsqRLJDTBhEfdTYCD/cm9AxzvXrnB4vid/XuZyWdxeOjgmDqA/744zB\n",
              "cHFSIKO4BtuzzB/nKooi9uYa5j+wHEVMGER9WLCPK55MMY5zzTV7nGvulQZcqW+Fi5MC42zQOp3k\n",
              "jQmDqI97Yko0Bnq74FJtCz45UGjWa42royZGB3AwGDFhEPV1rs5KLO0Y57pqfwEumzHOdV9HOSqV\n",
              "5SgCEwaRQ7hnxAAkRfihtV2Pd77JNek1dc3tOHHxGgBgapz1h/OQ/DFhEDkAQRDw6r1DIQjA16cv\n",
              "41hxzS1fc7CgEjq9iNggD4T4utkgSpI7JgwiBzE82Bvzx4YCAJZvzYZef/Nltmw2SD/FhEHkQF6Y\n",
              "HgdPtQpnL9Vjw4nSGx6n14vYn9fx/IIJgzowYRA5kAAPNX53RwwA4E//zkN9a3u3x2VdqkN1Uxs8\n",
              "1CqMifC1ZYgkY0wYRA5mwfgIRAW4o6qxDR/sKej2GONy2skxAXBS8scEGfCTQORgnFU/jnNdfagI\n",
              "hd2Mc93bUY7i8wu6HhMGkQOaOrgfUuMC0a4T8fb2c13+rapRgzNltQCAFC6npeswYRA5qGX3DIVK\n",
              "IWB3bkVng0EAOHC+EqIIDBvohSAvFwkjJLlhwiByUNGBHlg4IQIA8Oa2HLTrDONcWY6iG2HCIHJg\n",
              "v7k9Bv7uzrhQ2YR//FACrU6PA+eN3WlZjqKuzEoYv/3tbxEREQFBEHDq1CkrhUREtuLt6oTfd4xz\n",
              "/fOu89idW4G6lnb4uDkhMZTLaakrsxLGvHnz8P333yM8PNxa8RCRjT04JhRDBxjGuf7+y9MAgCkx\n",
              "gVAqBIkjI7kxK2FMmTIFISEh1oqFiCRgGOdqWGbboNECYDmKuqey1ok1Gg00Gk2X7+l05g1vISLb\n",
              "GBflj7tHDMD2M+UQBMMdBtFPWe2h94oVK+Dt7d3lKyMjw1qXI6Je+s+ZQxDs44pZCQPh76GWOhyS\n",
              "IUHswWT4iIgIbNmyBYmJiTc8prs7jGXLliE9Pd3sIInINkRRhCDw2QV1z2olKbVaDbW6628pSiVH\n",
              "PBLJGZMF3YxZJaknnngCISEhKCsrw5133olBgwZZKy4iIpIZs+4wPv74Y2vFQUREMsed3kREZJIe\n",
              "PfTuqTlz5iAiIqJHr9XpdMjIyEBSUhKfhdwA36Ob4/tza3yPbq6vvj/h4eH43e9+d8vjbJoweqO+\n",
              "vh7e3t6oq6uDl5eX1OHIEt+jm+P7c2t8j27O0d8flqSIiMgkTBhERGQSJgwiIjKJ3SQMtVqN1157\n",
              "7WebAelHfI9uju/PrfE9ujlHf3/s5qE3ERFJy27uMIiISFpMGEREZBImDCIiMoldJIz8/HxMmDAB\n",
              "sbGxGDt2LLKzs6UOSVZaW1sxe/ZsxMbGIiEhAdOmTUNBQYHUYcnS6tWrIQgCtmzZInUosqPRaPDM\n",
              "M88gJiYG8fHxePTRR6UOSXZ27NiBUaNGITExEcOHD8eaNWukDsm2RDswdepUcfXq1aIoiuKGDRvE\n",
              "MWPGSBuQzLS0tIjbt28X9Xq9KIqiuHLlSjElJUXaoGSoqKhIHD9+vJicnCxu3rxZ6nBk59lnnxWf\n",
              "eeaZzs9ReXm5xBHJi16vF319fcXTp0+Lomj4PKnVarG+vl7iyGxH9ncYFRUVOH78eOdvO3PnzkVp\n",
              "aSl/g76Oi4sLZs6c2TnLIDk5GcXFxdIGJTN6vR6LFi3CypUrHXZJ5M00NTXhs88+w9tvv935Oerf\n",
              "v7/EUcmPIAiora0FYGgT4u/v71CfJ9knjNLSUgwYMAAqlaETuyAICAsLw8WLFyWOTL7S09Mxa9Ys\n",
              "qcOQlffffx8TJ07E6NGjpQ5Fli5cuAA/Pz+kpaVhzJgxmDx5Mnbv3i11WLIiCALWr1+POXPmIDw8\n",
              "HJMmTcKaNWvg7OwsdWg2Y7WJeySNtLQ0FBQU8H/265w9exYbN27EgQMHpA5FtrRaLUpKSjB06FC8\n",
              "8847yMzMxLRp05CdnY2goCCpw5MFrVaLt956C5s2bcKUKVNw7Ngx3HfffcjKykJAQIDU4dmE7O8w\n",
              "QkNDUV5eDq1WC8Awc/jixYsICwuTODL5effdd7Fp0yZ88803cHNzkzoc2Th48CCKi4sRExODiIgI\n",
              "HDlyBIsXL8aqVaukDk02wsLCoFAo8MgjjwAARo4cicjISGRlZUkcmXycOnUKly9fxpQpUwAAY8eO\n",
              "RUhICDIzMyWOzIakfohiipSUlC4PvUePHi1tQDL03nvviaNGjRJramqkDkX2UlJS+NC7G9OmTRO3\n",
              "b98uiqIoFhYWiv7+/mJZWZnEUcnHlStXRA8PDzEnJ0cURVHMz88XfX19xZKSEokjsx27aA2Sl5eH\n",
              "hQsXorq6Gl5eXli9ejXi4+OlDks2ysrKEBoaiqioKHh6egIw9Lw5evSoxJHJU2pqKp599lnMnj1b\n",
              "6lBkpbCwEI8//jiqqqqgUCjw6quvYu7cuVKHJSvr1q1DWloaFAoF9Ho9li5diocffljqsGzGLhIG\n",
              "ERFJT/bPMIiISB6YMIiIyCRMGEREZBImDCIiMgkTBhERmYQJg4iITMKEQUREJmHCICIikzBhEBGR\n",
              "SZgwiIjIJEwYRERkkv8HKvEAvx2nlv8AAAAASUVORK5CYII=\n",
              "\">\n",
              "        \n",
              "      </div>\n",
              "      <script></script>\n",
              "      <script type=\"text/javascript\">\n",
              "        (() => {\n",
              "          const chartElement = document.getElementById(\"chart-389dd3ce-d007-4d59-97b6-201b46155d5a\");\n",
              "          async function getCodeForChartHandler(event) {\n",
              "            const chartCodeResponse =  await google.colab.kernel.invokeFunction(\n",
              "                'getCodeForChart', [\"chart-389dd3ce-d007-4d59-97b6-201b46155d5a\"], {});\n",
              "            const responseJson = chartCodeResponse.data['application/json'];\n",
              "            await google.colab.notebook.addCell(responseJson.code, 'code');\n",
              "          }\n",
              "          chartElement.onclick = getCodeForChartHandler;\n",
              "        })();\n",
              "      </script>\n",
              "      <style>\n",
              "        .colab-quickchart-chart-with-code  {\n",
              "            display: block;\n",
              "            float: left;\n",
              "            border: 1px solid transparent;\n",
              "        }\n",
              "\n",
              "        .colab-quickchart-chart-with-code:hover {\n",
              "            cursor: pointer;\n",
              "            border: 1px solid #aaa;\n",
              "        }\n",
              "      </style>"
            ]
          },
          "metadata": {}
        },
        {
          "output_type": "display_data",
          "data": {
            "text/plain": [
              "<google.colab._quickchart_helpers.SectionTitle at 0x7a16b767c130>"
            ],
            "text/html": [
              "<h4 class=\"colab-quickchart-section-title\">Distributions</h4>\n",
              "<style>\n",
              "  .colab-quickchart-section-title {\n",
              "      clear: both;\n",
              "  }\n",
              "</style>"
            ]
          },
          "metadata": {}
        },
        {
          "output_type": "display_data",
          "data": {
            "text/plain": [
              "import numpy as np\n",
              "from google.colab import autoviz\n",
              "\n",
              "def histogram(df, colname, num_bins=20, figscale=1):\n",
              "  from matplotlib import pyplot as plt\n",
              "  df[colname].plot(kind='hist', bins=num_bins, title=colname, figsize=(8*figscale, 4*figscale))\n",
              "  plt.gca().spines[['top', 'right',]].set_visible(False)\n",
              "  plt.tight_layout()\n",
              "  return autoviz.MplChart.from_current_mpl_state()\n",
              "\n",
              "chart = histogram(df, *['sentiment'], **{})\n",
              "chart"
            ],
            "text/html": [
              "      <div class=\"colab-quickchart-chart-with-code\" id=\"chart-1ba4a90d-4d42-431e-947f-a56bfe01ef31\">\n",
              "        <img src=\"data:image/png;base64,iVBORw0KGgoAAAANSUhEUgAAAYwAAADECAYAAACMRRb/AAAAOXRFWHRTb2Z0d2FyZQBNYXRwbG90\n",
              "bGliIHZlcnNpb24zLjcuMSwgaHR0cHM6Ly9tYXRwbG90bGliLm9yZy/bCgiHAAAACXBIWXMAAA9h\n",
              "AAAPYQGoP6dpAAAVBklEQVR4nO3df0yU9wHH8c9x6BV/ABOlpTJBfoitFlAjQ23VbWkbWSbM2c26\n",
              "paBzWG3DjC46Y01ru0GXqKm1KVNjXF0T266iJv5a1o5W205drTX+2PAHIuK0NP4AnHAW+O4P48Ur\n",
              "WJ/De7hH+n4ll3DPfe95PsWvfvrc9+45lzHGCACA2wgLdQAAwN2BwgAAWEJhAAAsoTAAAJZQGAAA\n",
              "SygMAIAlFAYAwBIKAwBgCYUBALCEwgDuwIQJE/TSSy+FOgbQKVxcGgS4vaqqKg0cOFDHjx9XSkpK\n",
              "qOP4cXI2dC2cYQAALKEw0KW89tprSk5OVu/evXXvvfeqoKBAknT58mXNmjVLCQkJiomJUU5Ojior\n",
              "K33PKygo0JQpU/Tss88qJiZG9957rxYvXux7fMiQIZKkjIwM9erVS08//bQkafz48Xruued841wu\n",
              "l1asWKFRo0apZ8+eysjI0KFDh/TXv/5VaWlpioyM1OTJk3XlyhXfc+zKBgSdAbqIY8eOmYiICHPo\n",
              "0CFjjDENDQ3mww8/NK2trWb8+PFm6tSp5sKFC6apqcnMnz/fPPDAA+batWvGGGPy8/NN9+7dzYYN\n",
              "G0xzc7P55JNPTHh4uPnHP/5hjDHm1KlTRpI5fvy43zHHjRtnFi1a5LsvyWRmZprKykrj9XrNE088\n",
              "YZKSkkxBQYGpr68358+fN0lJSaa4uNgYY2zNBgQbZxjoMsLDw2WM0ZEjR1RfX69evXpp7NixOnDg\n",
              "gD7++GOtWrVKffr0kcfjUXFxsU6dOqW9e/f6nj9mzBhNmTJFbrdbo0aNUmZmpvbt2xdwjrlz52rg\n",
              "wIHq3r27fvGLX6iyslLFxcW+s56cnBzffjs7G3AnwkMdAAiWgQMH6q233lJpaalmzpyp1NRUzZ07\n",
              "V2FhYWpublZ8fHyb55w5c8b38/333+/3WM+ePdXQ0BBwjri4OL99tLftxn6PHz/eqdmAO0FhoEvJ\n",
              "zc1Vbm6umpubVVZWpilTpqi8vFzdu3fXl19+qW7dunVov2Fh9pyM33fffY7NBnwdMw1dRkVFhbZv\n",
              "364rV64oPDxcUVFRkqT4+HgNHTpUs2bNUm1trSTp0qVL2rhxo65evWpp3/369VNYWJgqKiqCmvnh\n",
              "hx92bDbg6ygMdBnXrl3TH/7wB/Xv31+RkZGaN2+e1q9fr+TkZP39739Xjx499L3vfU+9e/dWRkaG\n",
              "Nm3aJJfLZWnfERERKi4u1owZMxQdHa3Zs2cHJbPb7XZsNuDr+OAeAMASzjAAAJZQGAAASygMAIAl\n",
              "FAYAwBIKAwBgCYUBALCEwgAAWOLYwlixYkWoIwAAbuLYwjh9+nSoIwAAbuLYwgAAOEunFMa6devk\n",
              "crm0efPmzjgcAMAGthdGVVWV1qxZo+zsbLsPBQCwka2F0draqhkzZmjlypXyeDx2HgoAYDNbv0Bp\n",
              "+fLlGjNmjEaMGPGN47xer7xer9+2lpYWO6MBAAJkW2EcPnxYGzdu1K5du247tqSkREuWLPHbxktY\n",
              "uBsl/m7bHT2/6uUfBSkJEHy2vSS1e/duVVVVKTU1VYmJidqzZ48KCwtVWlraZuzChQtVV1fnd8vK\n",
              "yrIrGgCgA2w7w5g1a5ZmzZrluz9+/HjNmTNHeXl5bcZ6PJ42axxut9uuaACADuBzGAAAS2xd9L7Z\n",
              "Bx980FmHAgDYgDMMAIAlFAYAwBIKAwBgCYUBALCEwgAAWEJhAAAsoTAAAJZQGAAASygMAIAlFAYA\n",
              "wBIKAwBgCYUBALCEwgAAWEJhAAAsoTAAAJZQGAAASygMAIAlFAYAwBIKAwBgCYUBALCEwgAAWEJh\n",
              "AAAsoTAAAJZQGAAAS8Lt3Pljjz2m8+fPKywsTL1799arr76qYcOG2XlIAIBNbC2Md955R9HR0ZKk\n",
              "TZs2qaCgQAcPHrTzkAAAm9j6ktSNspCkuro6uVwuOw8HALCRrWcYkvTUU0+pvLxckrR9+/Z2x3i9\n",
              "Xnm9Xr9tLS0tdkcDAATA9sJYv369JOmNN97QggUL2i2NkpISLVmyxG9bdna23dFwC4m/23ZHz696\n",
              "+UdBSgLASTrtXVL5+fkqLy/XhQsX2jy2cOFC1dXV+d2ysrI6KxoAwALbzjAuX76sq1ev6v7775ck\n",
              "bd68WTExMerTp0+bsR6PRx6Px2+b2+22KxoAoAMCLoy//e1vevzxx287rq6uTk888YQaGxsVFham\n",
              "fv36aevWrSx8A8BdKuDCePHFF1VUVKTZs2dr2rRpioyMbHdcQkKC9u3bd8cBAQDOEPAaxscff6y3\n",
              "3npLhw8f1qBBgzR79mwdPXrUjmwAAAfp0KL3sGHDtGbNGu3cuVNbt25Venq6Hn30UR06dCjY+QAA\n",
              "DtGhwnjvvfeUm5urSZMm6ZlnntH58+c1c+ZM/eQnPwl2PgCAQwS8hvHAAw+ob9++Kioq0qRJk3zv\n",
              "Zpo8ebLWrl0b9IAAAGcIuDDefPNNjRgxot3HduzYcceBAADOFPBLUvv379fFixd99y9cuKA1a9YE\n",
              "NRQAwHkCLozXX3/d78N3MTExev3114MaCgDgPAEXhjGmzTYuFAgAXV/AhREXF6d33nnHd//tt99W\n",
              "XFxcUEMBAJwn4EXvV155Rbm5uZo/f74kqUePHtqyZUvQgwEAnCXgwhg8eLCOHj2qiooKSVJaWhoX\n",
              "CgSAb4EOXa3W5XIpOjpazc3NOnv2rCRpwIABQQ0GAHCWgAvjz3/+s4qKitStWzeFhV1fAnG5XKqt\n",
              "rQ16OACAcwRcGC+99JL+9a9/KS0tzY48AACHCvhdUn379qUsAOBbKODCyMvL0yuvvKLa2lrV19f7\n",
              "bgCAri3gl6QWLVokSZo7d65cLpeMMXK5XHx4DwC6uIALo7W11Y4cAACH69D3Yezfv19/+ctfJEmX\n",
              "L1/WuXPnghoKAOA8Hbr44PTp0/XCCy9Iun612qlTpwY7FwDAYQIujNWrV2vPnj2KjIyUJCUnJ+vL\n",
              "L78MejAAgLMEXBgej0cRERF+28LDO/SBcQDAXSTgwujXr5+OHTsml8sl6fonv7ksCAB0fR26Wu2T\n",
              "Tz6p//znP/rud7+ryMhIbd261Y5sAAAHCbgwUlJStHfvXlVUVMgYc8ur1TY1NWnKlCk6evSoIiIi\n",
              "FBsbq9LSUqWkpAQlOACgcwX8klR1dbVqamrUs2dP9erVS2fPnlV1dXW7YwsLC1VRUaGDBw8qNzdX\n",
              "M2bMuOPAAIDQCPgMY8SIEb5PeDc1Nenq1auKiYlpc7Xae+65Rzk5Ob772dnZWrp06Z0nBgCERMCF\n",
              "8fW30JaVlengwYO3fd6KFSuUm5vb7mNer1der9dvG5caAQBn6dAnvW82adIkbdu27RvHFBcX68SJ\n",
              "EyopKWn38ZKSEkVFRfnd9u3bd6fRAABBFHBh3HyF2kuXLmnnzp3feLXapUuXqqysTDt27FCPHj3a\n",
              "HbNw4ULV1dX53bKysgKNBgCwUcAvSUVHR/vWMNxut1JTU/Xqq6+2O3b58uXasGGD3nvvPUVHR99y\n",
              "nx6PRx6Px28b3xMOAM5i29Vqa2pqNG/ePCUlJen73/++pOvFsHfv3kAPCQBwANuu6REfHy9jjF27\n",
              "BwB0soALIywszHdZkJvxRUoA0LUFXBgvvviiGhsbNWvWLEnSn/70J0VERGjOnDnBzgYAcJCAC2PT\n",
              "pk3av3+/7/7vf/97jRgxwvfVrQCAringt9U2NDT4faq7trZWDQ0NQQ0FAHCegM8w5s2bp4yMDN9l\n",
              "P3bu3On79j0AQNcVcGHMnDlTY8aMUXl5uSRp7ty5GjJkSNCDAQCcpUNvq42JidFDDz2k8ePHq7m5\n",
              "WdeuXVP37t2DnQ0A4CABr2G8++67ys7O1rRp0yRJR44cUV5eXrBzAQAcJuDCKCkp0Weffea71EdG\n",
              "RoZOnz4d7FwAAIcJuDDcbrdiYmL8tvFyFAB0fQEXRu/evfXFF1/4Pu39/vvvq0+fPkEPBgBwloAX\n",
              "vf/4xz9qwoQJqqys1MMPP6xTp07d9vswAAB3v4AKo7W1VS0tLSovL9cnn3wiY4xGjx79jZcuBwB0\n",
              "DQEVRlhYmAoLC3Xw4EFNmDDBrkwAAAcKeA0jNTVVJ06csCMLAMDBAl7DuHjxojIzMzV69Gj16tXL\n",
              "t72srCyowQAAzmK5MAoLC7V69Wrl5+dr4sSJ+s53vmNnLgCAw1gujE8//VSSlJ+fr+HDh+uzzz6z\n",
              "LRQAwHkCXsOQxFevAsC3kOUzjMbGRh06dEjGGDU1Nfl+viE9Pd2WgAAAZwioMCZOnOi7f/PPLpdL\n",
              "lZWVwU0GAHAUy4VRVVVlYwwAgNN1aA0DAPDtY2thFBUVKTExUS6XS59//rmdhwIA2MzWwpg8ebI+\n",
              "+ugjJSQk2HkYAEAn6NBXtFo1duxYO3cPAOhEthaGVV6vV16v129bS0tLiNIAANrjiMIoKSnRkiVL\n",
              "/LZlZ2ff0T4Tf3dn39FR9fKP7uj5AALzbf47e7f8tzviXVILFy5UXV2d3y0rKyvUsQAAN3HEGYbH\n",
              "45HH4/Hb5na7Q5QGANAeW88wZs6cqfj4eNXU1Ojxxx9XSkqKnYcDANjI1jOMVatW2bl7AEAncsQa\n",
              "BgDA+SgMAIAlFAYAwBIKAwBgCYUBALCEwgAAWEJhAAAsoTAAAJZQGAAASygMAIAlFAYAwBIKAwBg\n",
              "CYUBALCEwgAAWEJhAAAsoTAAAJZQGAAASygMAIAlFAYAwBIKAwBgCYUBALCEwgAAWEJhAAAsoTAA\n",
              "AJbYWhjHjx/X6NGjNWjQII0cOVJHjhyx83AAABvZWhgzZ85UYWGhjh07pgULFqigoMDOwwEAbGRb\n",
              "YdTW1urTTz/VL3/5S0nST3/6U505c0YnTpyw65AAABuF27XjM2fOKC4uTuHh1w/hcrk0YMAAVVdX\n",
              "KyUlxW+s1+uV1+v129bS0mJXNABAB7iMMcaOHe/fv19Tp05VRUWFb1tWVpZefvll/eAHP/Ab+8IL\n",
              "L2jJkiV+2wYPHqwJEyZ06NgtLS3at2+fsrKy5Ha7O7QPOzk5n5OzSc7O5+RskrPzOTmb5Ox8wciW\n",
              "kJCg3/zmN7cdZ1th1NbWKiUlRRcvXlR4eLiMMYqLi9NHH31k6QzD4/HI4/F06Nj19fWKiopSXV2d\n",
              "IiMjO/zfYBcn53NyNsnZ+ZycTXJ2Pidnk5ydrzOz2baGERsbq+HDh+vNN9+UJG3cuFHx8fFtykK6\n",
              "Xg6RkZF+t46WBQDAHratYUjSqlWrVFBQoOLiYkVGRmrdunV2Hg4AYCNbCyMtLU3//Oc/7TwEAKCT\n",
              "dMlPens8Hj3//POOfVnLyfmcnE1ydj4nZ5Ocnc/J2SRn5+vMbLYtegMAupYueYYBAAg+CgMAYAmF\n",
              "AQCw5K4tjKKiIiUmJsrlcunzzz+/5bi1a9cqNTVVycnJ+vWvf62vvvrKMfk++OADRUREKDMz03dr\n",
              "bGy0PVtTU5Py8vI0aNAgZWRk6NFHH73lNb62bt2qwYMHKzU1VZMmTVJ9fb1j8lVVVcntdvv9/k6e\n",
              "PGl7vscee0zp6enKzMzUI488ogMHDrQ7LlRzz0q+UM29G9atWyeXy6XNmze3+3go5p2VbKGac5KU\n",
              "mJiotLQ033HffvvtdsfZOu/MXerDDz80Z86cMQkJCebAgQPtjqmsrDRxcXHm3LlzprW11fz4xz82\n",
              "r732mmPylZeXm4yMjE7Jc7PGxkazbds209raaowxZuXKlWbcuHFtxjU0NJjY2Fjz73//2xhjzDPP\n",
              "PGN++9vfOibfqVOnTFRUlO15vu7SpUu+n8vKykx6enqbMaGce1byhWruGXP9z23UqFEmOzvbbNq0\n",
              "qc3joZp3VrKFas4ZY77x35Ib7J53d+0ZxtixYxUfH/+NY959911NnDhR9913n1wul55++mlt2LDB\n",
              "MflC5Z577lFOTo5cLpckKTs7W1VVVW3G7dixQ8OGDdPgwYMlSbNnz+6U35/VfKESHR3t+7murs6X\n",
              "82ahnHtW8oVKa2urZsyYoZUrV97ybaChmndWsjmd3fPO1g/uhVp1dbUSEhJ89xMTE1VdXR3CRG2d\n",
              "PHlSw4cPl9vt1rRp0zR79uxOz7BixQrl5ua22d7e7+/cuXNqbm72XYU4lPkk6X//+59GjhyplpYW\n",
              "5eXladGiRZ1ycbinnnpK5eXlkqTt27e3eTzUc+92+aTQzL3ly5drzJgxGjFixC3HhGreWckmhW7O\n",
              "Sdf/XI0xvgu59uvXz+9xu+ddly4Mpxs+fLhqamoUFRWlmpoa5eTkqG/fvvrZz37WaRmKi4t14sQJ\n",
              "vf/++512zEB8U764uDidPXtWsbGxunjxon7+859r2bJlmj9/vu251q9fL0l64403tGDBglv+oxwq\n",
              "t8sXirl3+PBhbdy4Ubt27bLtGB1lNVso59yuXbs0YMAAffXVV3ruueeUn5/f6fPurn1JyooBAwbo\n",
              "9OnTvvtVVVUaMGBACBP5i4yMVFRUlCQpPj5eTz75pHbv3t1px1+6dKnKysq0Y8cO9ejRo83j7f3+\n",
              "bv6Ok1Dn83g8io2NlST16dNH06dP79TfnyTl5+ervLxcFy5c8NvulLl3q3yhmHu7d+9WVVWVUlNT\n",
              "lZiYqD179qiwsFClpaV+40Ix76xmC+WcuzF/unXrpjlz5rR7XNvnXdBWQ0LkmxaCTp482WYBaOXK\n",
              "lY7J99///te0tLQYY4ypr683o0ePNmvXru2UXMuWLTPDhw83Fy9evOWY+vp6069fP7/Fx3nz5jkm\n",
              "3xdffGGuXbtmjDGmqanJTJ482SxevNjWXJcuXTJnz5713d+0aZPp37+/b4H+hlDNPav5Qjn3bhg3\n",
              "bly7C8uhnHe3yxaKOWeMMVeuXPF7M8OyZcvMI4880mac3fPuri2MwsJC079/f+N2u01sbKxJTk42\n",
              "xhjzq1/9ymzZssU3bvXq1SYpKckkJSWZ6dOn+/6wnZBv5cqV5sEHHzTp6enmwQcfNM8//3ybv9h2\n",
              "OHPmjJFkkpKSTEZGhsnIyDBZWVnGGGMWL15sSktLfWO3bNli0tLSTHJyssnNzTWXL192TL6NGzea\n",
              "IUOG+H5/zz77rGlqarI1W1VVlRk5cqQZOnSoSU9PNz/84Q99/0PghLlnNV+o5t7Nbv5H2Qnzzkq2\n",
              "UMw5Y64XQWZmpnnooYfM0KFDzcSJE82pU6eMMZ0777iWFADAki69hgEACB4KAwBgCYUBALCEwgAA\n",
              "WEJhAAAsoTAAAJZQGAAASygMAIAlFAYAwBIKAwBgCYUBALDk/50EPuaBzK61AAAAAElFTkSuQmCC\n",
              "\">\n",
              "        \n",
              "      </div>\n",
              "      <script></script>\n",
              "      <script type=\"text/javascript\">\n",
              "        (() => {\n",
              "          const chartElement = document.getElementById(\"chart-1ba4a90d-4d42-431e-947f-a56bfe01ef31\");\n",
              "          async function getCodeForChartHandler(event) {\n",
              "            const chartCodeResponse =  await google.colab.kernel.invokeFunction(\n",
              "                'getCodeForChart', [\"chart-1ba4a90d-4d42-431e-947f-a56bfe01ef31\"], {});\n",
              "            const responseJson = chartCodeResponse.data['application/json'];\n",
              "            await google.colab.notebook.addCell(responseJson.code, 'code');\n",
              "          }\n",
              "          chartElement.onclick = getCodeForChartHandler;\n",
              "        })();\n",
              "      </script>\n",
              "      <style>\n",
              "        .colab-quickchart-chart-with-code  {\n",
              "            display: block;\n",
              "            float: left;\n",
              "            border: 1px solid transparent;\n",
              "        }\n",
              "\n",
              "        .colab-quickchart-chart-with-code:hover {\n",
              "            cursor: pointer;\n",
              "            border: 1px solid #aaa;\n",
              "        }\n",
              "      </style>"
            ]
          },
          "metadata": {}
        }
      ]
    },
    {
      "cell_type": "code",
      "source": [],
      "metadata": {
        "id": "hFhfXEjhbjzE"
      },
      "execution_count": null,
      "outputs": []
    }
  ]
}